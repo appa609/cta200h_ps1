{
 "cells": [
  {
   "cell_type": "code",
   "execution_count": 9,
   "metadata": {
    "collapsed": false
   },
   "outputs": [],
   "source": [
    "#Part A\n",
    "def fact(j):\n",
    "    if j<0 or j!=int(j):\n",
    "        print(\"invalid j input\")\n",
    "        return -1\n",
    "    else:\n",
    "        p = 1\n",
    "        for i in range(j):\n",
    "            p = p*(i+1)\n",
    "        return p\n",
    "            \n",
    "    \n",
    "def comb(n,k):\n",
    "    if k>n or k<0 or n<0 or int(k)!=k or int(n) !=n:\n",
    "        print(\"invalid n,k input(s)\")\n",
    "        return -1\n",
    "    if k == 0:\n",
    "        return 1\n",
    "    else:\n",
    "        return fact(n)/(fact(k)*fact(n-k))"
   ]
  },
  {
   "cell_type": "code",
   "execution_count": 18,
   "metadata": {
    "collapsed": false
   },
   "outputs": [
    {
     "data": {
      "text/plain": [
       "1"
      ]
     },
     "execution_count": 18,
     "metadata": {},
     "output_type": "execute_result"
    }
   ],
   "source": [
    "comb(1,1)"
   ]
  },
  {
   "cell_type": "code",
   "execution_count": 22,
   "metadata": {
    "collapsed": false
   },
   "outputs": [
    {
     "name": "stdout",
     "output_type": "stream",
     "text": [
      "1\n",
      "1 1\n",
      "1 2 1\n",
      "1 3 3 1\n",
      "1 4 6 4 1\n",
      "1 5 10 10 5 1\n",
      "1 6 15 20 15 6 1\n",
      "1 7 21 35 35 21 7 1\n",
      "1 8 28 56 70 56 28 8 1\n",
      "1 9 36 84 126 126 84 36 9 1\n",
      "1 10 45 120 210 252 210 120 45 10 1\n",
      "1 11 55 165 330 462 462 330 165 55 11 1\n",
      "1 12 66 220 495 792 924 792 495 220 66 12 1\n",
      "1 13 78 286 715 1287 1716 1716 1287 715 286 78 13 1\n",
      "1 14 91 364 1001 2002 3003 3432 3003 2002 1001 364 91 14 1\n",
      "1 15 105 455 1365 3003 5005 6435 6435 5005 3003 1365 455 105 15 1\n",
      "1 16 120 560 1820 4368 8008 11440 12870 11440 8008 4368 1820 560 120 16 1\n",
      "1 17 136 680 2380 6188 12376 19448 24310 24310 19448 12376 6188 2380 680 136 17 1\n",
      "1 18 153 816 3060 8568 18564 31824 43758 48620 43758 31824 18564 8568 3060 816 153 18 1\n",
      "1 19 171 969 3876 11628 27132 50388 75582 92378 92378 75582 50388 27132 11628 3876 969 171 19 1\n",
      "1 20 190 1140 4845 15504 38760 77520 125970 167960 184756 167960 125970 77520 38760 15504 4845 1140 190 20 1\n"
     ]
    }
   ],
   "source": [
    "#Part B\n",
    "for n in range(21):\n",
    "    for i in range(n+1):\n",
    "        print comb(n,i),\n",
    "    print\n",
    "    \n",
    "    \n"
   ]
  },
  {
   "cell_type": "code",
   "execution_count": 86,
   "metadata": {
    "collapsed": true
   },
   "outputs": [],
   "source": [
    "#Part C\n",
    "def binpdf(n,k,p):\n",
    "    if p<0 or p>1:\n",
    "        print (\"invalid p input\")\n",
    "        return -1\n",
    "    else:         \n",
    "        return comb(n,k)*p**k*(1-p)**(n-k)\n",
    "\n",
    "def bincdf(n,k,p):\n",
    "    s = 0\n",
    "    for i in range(k,n+1):\n",
    "\n",
    "        s = s + binpdf(n,i,p)\n",
    "    return s"
   ]
  },
  {
   "cell_type": "code",
   "execution_count": 89,
   "metadata": {
    "collapsed": false
   },
   "outputs": [
    {
     "data": {
      "text/plain": [
       "0.421875"
      ]
     },
     "execution_count": 89,
     "metadata": {},
     "output_type": "execute_result"
    }
   ],
   "source": [
    "binpdf(4,1,.25)"
   ]
  },
  {
   "cell_type": "code",
   "execution_count": 88,
   "metadata": {
    "collapsed": false
   },
   "outputs": [
    {
     "data": {
      "text/plain": [
       "0.68359375"
      ]
     },
     "execution_count": 88,
     "metadata": {},
     "output_type": "execute_result"
    }
   ],
   "source": [
    "bincdf(4,1,.25)"
   ]
  },
  {
   "cell_type": "code",
   "execution_count": 106,
   "metadata": {
    "collapsed": true
   },
   "outputs": [],
   "source": [
    "#Part D\n",
    "import numpy as np\n",
    "\n",
    "def Nbincdf(n,k,p,N):\n",
    "    if n<0 or k<0 or p<0 or p>1 or N<0 or N!=int(N) or n!= int(n) or k!= int(k):\n",
    "        print(\"Invalid input(s)\")\n",
    "        return -1\n",
    "    S = 0\n",
    "    for i in range(N):\n",
    "        s = 0\n",
    "        for j in range(n):            \n",
    "            if np.random.random() < p:\n",
    "                s = s+1              \n",
    "        if s>=k:\n",
    "            S +=1\n",
    "    return(float(S)/N)"
   ]
  },
  {
   "cell_type": "code",
   "execution_count": 107,
   "metadata": {
    "collapsed": false
   },
   "outputs": [
    {
     "data": {
      "text/plain": [
       "0.6833"
      ]
     },
     "execution_count": 107,
     "metadata": {},
     "output_type": "execute_result"
    }
   ],
   "source": [
    "Nbincdf(4,1,.25,10000)"
   ]
  },
  {
   "cell_type": "code",
   "execution_count": 126,
   "metadata": {
    "collapsed": false
   },
   "outputs": [
    {
     "data": {
      "image/png": "[encoded data removed]",
      "text/plain": [
       "<matplotlib.figure.Figure at 0x7fc61c4cf190>"
      ]
     },
     "metadata": {},
     "output_type": "display_data"
    }
   ],
   "source": [
    "import matplotlib.pyplot as plt\n",
    "Nums = []\n",
    "y=[]\n",
    "for i in np.linspace(1,6,100):\n",
    "    N = int(10**i)\n",
    "    Nums.append(N)\n",
    "    y.append(Nbincdf(4,1,.25,N))\n",
    "Y = np.asarray(y)\n",
    "Y = np.log10(abs(Y-bincdf(4,1,.25)))\n",
    "NUMS = np.asarray(Nums)\n",
    "NUMS = np.log10(NUMS)\n",
    "\n",
    "plt.title(\"Simulated Binomial Distribution Error\")\n",
    "plt.plot(NUMS,Y)\n",
    "plt.ylabel(\"log10 error\")\n",
    "plt.xlabel(\"log N\")\n",
    "plt.show()\n"
   ]
  },
  {
   "cell_type": "code",
   "execution_count": 127,
   "metadata": {
    "collapsed": false
   },
   "outputs": [
    {
     "name": "stdout",
     "output_type": "stream",
     "text": [
      "[-0.50316826 -0.52664422]\n"
     ]
    }
   ],
   "source": [
    "import scipy.optimize as opt\n",
    "\n",
    "def linreg(x,a,b):\n",
    "    return a*x+b\n",
    "\n",
    "p_opt,p_cov = opt.curve_fit(linreg,NUMS,Y,[1,0])\n",
    "\n",
    "print p_opt"
   ]
  },
  {
   "cell_type": "code",
   "execution_count": null,
   "metadata": {
    "collapsed": true
   },
   "outputs": [],
   "source": []
  }
 ],
 "metadata": {
  "kernelspec": {
   "display_name": "Python 2",
   "language": "python",
   "name": "python2"
  },
  "language_info": {
   "codemirror_mode": {
    "name": "ipython",
    "version": 2
   },
   "file_extension": ".py",
   "mimetype": "text/x-python",
   "name": "python",
   "nbconvert_exporter": "python",
   "pygments_lexer": "ipython2",
   "version": "2.7.13"
  }
 },
 "nbformat": 4,
 "nbformat_minor": 2
}
