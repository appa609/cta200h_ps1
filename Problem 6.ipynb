{
 "cells": [
  {
   "cell_type": "code",
   "execution_count": 5,
   "metadata": {
    "collapsed": false
   },
   "outputs": [],
   "source": [
    "import numpy as np\n",
    "\n",
    "Ships = []\n",
    "\n",
    "class Spaceship:\n",
    "    def __init__(self,name,shield,hull):\n",
    "        Ships.append(self)\n",
    "        self.Name = name\n",
    "        self.HP = hull\n",
    "        self.SP = shield\n",
    "        self.Type = \"Corellian Class Star Shuttle\"\n",
    "        self.index = len(Ships)-1\n",
    "    \n",
    "    def setName(self,name):\n",
    "        self.Name = name\n",
    "\n",
    "    def getName(self):\n",
    "        return self.Name\n",
    "    \n",
    "    def setSP(self,shield):\n",
    "        self.SP = shield\n",
    "\n",
    "    def getSP(self):\n",
    "        return self.SP\n",
    "    \n",
    "    def setHP(self,hull):\n",
    "        self.HP = hull\n",
    "\n",
    "    def getHP(self):\n",
    "        return self.HP\n",
    "    \n",
    "    def __str__(self):\n",
    "        return str(self.Name) + \" has \" + str(self.SP) + \" remaining shield points and \" +str(self.HP) + \" remaining hull points. She is a \" + str(self.Type)\n",
    "    \n",
    "    def die(self):\n",
    "        del(Ships[self.index])\n",
    "        \n",
    "    def shoot(self)\n",
    "        k = np.random.randint(1,len(Ships))\n",
    "        target = Ships[k]\n",
    "        \n",
    "        shot = 50\n",
    "        if target.getSP() > 0:\n",
    "            if shot > target.getSP():\n",
    "                shot = shot - target.getSP()\n",
    "                \n",
    "            target.setSP(target.getSP()-shot)\n",
    "            if target.getSP() <= 0\n",
    "            \n",
    "        \n",
    "\n",
    "class Warship(Spaceship):\n",
    "    def __init__(self,name,shield,hull):\n",
    "        Ships.append(self)\n",
    "        self.Name = name\n",
    "        self.HP = hull\n",
    "        self.SP = shield\n",
    "        self.Type = \"Venator Class Star Destroyer\"\n",
    "\n",
    "class Speeder(Spaceship):\n",
    "    def __init__(self,name,shield,hull):\n",
    "        Ships.append(self)\n",
    "        self.Name = name\n",
    "        self.HP = hull\n",
    "        self.SP = shield\n",
    "        self.Type = \"X-Wing Fighter\" \n",
    "    \n",
    "\n",
    "    \n",
    "    "
   ]
  },
  {
   "cell_type": "code",
   "execution_count": 3,
   "metadata": {
    "collapsed": false
   },
   "outputs": [
    {
     "data": {
      "text/plain": [
       "3"
      ]
     },
     "execution_count": 3,
     "metadata": {},
     "output_type": "execute_result"
    }
   ],
   "source": []
  },
  {
   "cell_type": "code",
   "execution_count": null,
   "metadata": {
    "collapsed": true
   },
   "outputs": [],
   "source": []
  }
 ],
 "metadata": {
  "kernelspec": {
   "display_name": "Python 2",
   "language": "python",
   "name": "python2"
  },
  "language_info": {
   "codemirror_mode": {
    "name": "ipython",
    "version": 2
   },
   "file_extension": ".py",
   "mimetype": "text/x-python",
   "name": "python",
   "nbconvert_exporter": "python",
   "pygments_lexer": "ipython2",
   "version": "2.7.13"
  }
 },
 "nbformat": 4,
 "nbformat_minor": 2
}
